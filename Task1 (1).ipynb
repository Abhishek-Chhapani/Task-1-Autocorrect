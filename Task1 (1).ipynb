{
 "cells": [
  {
   "cell_type": "code",
   "execution_count": 1,
   "id": "9fc8342c",
   "metadata": {},
   "outputs": [
    {
     "name": "stdout",
     "output_type": "stream",
     "text": [
      "Collecting pyspellchecker\n",
      "  Downloading pyspellchecker-0.7.2-py3-none-any.whl (3.4 MB)\n",
      "     ---------------------------------------- 3.4/3.4 MB 2.4 MB/s eta 0:00:00\n",
      "Installing collected packages: pyspellchecker\n",
      "Successfully installed pyspellchecker-0.7.2\n"
     ]
    }
   ],
   "source": [
    "! pip install pyspellchecker"
   ]
  },
  {
   "cell_type": "code",
   "execution_count": 2,
   "id": "db08ef0e",
   "metadata": {},
   "outputs": [
    {
     "name": "stdout",
     "output_type": "stream",
     "text": [
      "Enter a sentence:Myy naame is john\n",
      "The AUTOCORRECT suggestions for misspelled words are: {'myy': 'my', 'naame': 'name'}\n",
      "Corrected Text:  Myy name is john\n"
     ]
    }
   ],
   "source": [
    "from spellchecker import SpellChecker\n",
    "def autocorrect_text(text):\n",
    "    # Initialize the spell checker\n",
    "    spell = SpellChecker()\n",
    "    # Tokenize the input text\n",
    "    words = text.split()\n",
    "    # Find misspelled words and their corrections\n",
    "    misspelled_words = spell.unknown(words)\n",
    "    dict_of_autocorrect_words = {word: spell.correction(word) for word in misspelled_words}\n",
    "\n",
    "    # Apply autocorrection to the text\n",
    "    corrected_words = [dict_of_autocorrect_words.get(word, word) for word in words]\n",
    "    corrected_text = ' '.join(corrected_words)\n",
    "\n",
    "    return corrected_text, dict_of_autocorrect_words\n",
    "\n",
    "# Get input from the user\n",
    "text = input(\"Enter a sentence:\")\n",
    "\n",
    "# Perform autocorrection and get the corrected text and dictionary of autocorrected words\n",
    "corrected_text, autocorrected_words = autocorrect_text(text)\n",
    "\n",
    "# Print the autocorrect suggestions and the corrected text\n",
    "print(f\"The AUTOCORRECT suggestions for misspelled words are: {autocorrected_words}\")\n",
    "print(\"Corrected Text: \", corrected_text)"
   ]
  }
 ],
 "metadata": {
  "kernelspec": {
   "display_name": "Python 3 (ipykernel)",
   "language": "python",
   "name": "python3"
  },
  "language_info": {
   "codemirror_mode": {
    "name": "ipython",
    "version": 3
   },
   "file_extension": ".py",
   "mimetype": "text/x-python",
   "name": "python",
   "nbconvert_exporter": "python",
   "pygments_lexer": "ipython3",
   "version": "3.10.9"
  }
 },
 "nbformat": 4,
 "nbformat_minor": 5
}
